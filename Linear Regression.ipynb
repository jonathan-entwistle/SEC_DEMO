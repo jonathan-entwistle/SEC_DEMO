{
    "nbformat_minor": 0, 
    "cells": [
        {
            "source": "# Sample R Notebook - dashDB Machine Learning - Linear Regression", 
            "cell_type": "markdown", 
            "metadata": {
                "collapsed": true
            }
        }, 
        {
            "source": "Before running the notebook, insert credentials cell here. To do so click \"Find and Add Data\" at top right of the screen, then select \"Connection\" and select \"Insert to code\" for the dashDB system of your choice. Make sure you have a dashDB connection set up in your project beforehand.\n<div> <img width = 370 height =286 src=\"https://ibm.box.com/shared/static/yc0airtlenm9ezywk3pigr453gkz3u1w.png\"> </div>", 
            "cell_type": "markdown", 
            "metadata": {}
        }, 
        {
            "execution_count": null, 
            "cell_type": "code", 
            "metadata": {
                "collapsed": true
            }, 
            "outputs": [], 
            "source": "# The code was removed by DSX for sharing."
        }, 
        {
            "source": "Next the ibmdbR push down library for dashDB is loaded. It translates R data frame operations into SQLs and machine learning routines executed inside dashDB.", 
            "cell_type": "markdown", 
            "metadata": {}
        }, 
        {
            "execution_count": null, 
            "cell_type": "code", 
            "metadata": {
                "collapsed": false
            }, 
            "outputs": [], 
            "source": "# Load the ibmdbR package and make a connection\nlibrary(ibmdbR)\nlibrary(ggplot2)\nlibrary(scales)\ncon <- idaConnect(paste(\"DASHDB\", credentials_1[\"dsn\"], sep=\";\"),'','')\nidaInit(con)"
        }, 
        {
            "source": "### Creating proxy data frames\nCreating  ida (in-database analytics) data frames for SHOWCASE_SYSUSAGE, SHOWCASE_SYSTEMS and SAMPLES.SHOWCASE_SYSTYPES sample tables. Data remains in dashDB.\nThen print a small sample of the data in that table.", 
            "cell_type": "markdown", 
            "metadata": {}
        }, 
        {
            "execution_count": null, 
            "cell_type": "code", 
            "metadata": {
                "collapsed": false
            }, 
            "outputs": [], 
            "source": "sysusage<-ida.data.frame('SAMPLES.SHOWCASE_SYSUSAGE')\nsystems<-ida.data.frame('SAMPLES.SHOWCASE_SYSTEMS')\nsystypes<-ida.data.frame('SAMPLES.SHOWCASE_SYSTYPES')\n\nhead(sysusage)\nhead(systems)\nhead(systypes)"
        }, 
        {
            "source": "The data in these tables holds time series of measurents of computer systems resource usage in a compute center. It can be used to train a regression model of memory usage based on number of users on the system.", 
            "cell_type": "markdown", 
            "metadata": {}
        }, 
        {
            "source": "### Data preparation: pushed down merging all three data frame inside database\nThen print a sample of the merged data frame.", 
            "cell_type": "markdown", 
            "metadata": {}
        }, 
        {
            "execution_count": null, 
            "cell_type": "code", 
            "metadata": {
                "collapsed": false
            }, 
            "outputs": [], 
            "source": "# Join the three tables on their TYPEID and SID columns.\nmergedSys<-idaMerge(systems, systypes, by='TYPEID')\nmergedUsage<-idaMerge(sysusage, mergedSys, by='SID')\n\nhead(mergedUsage)"
        }, 
        {
            "source": "A distribution histogram for different amounts of memory used:", 
            "cell_type": "markdown", 
            "metadata": {}
        }, 
        {
            "execution_count": null, 
            "cell_type": "code", 
            "metadata": {
                "collapsed": true
            }, 
            "outputs": [], 
            "source": "# Obtain a random sample of 1000 data points for visualization\ndfSample <- idaSample(mergedUsage[,c(\"MEMUSED\", \"USERS\")], 1000)"
        }, 
        {
            "execution_count": null, 
            "cell_type": "code", 
            "metadata": {
                "scrolled": true, 
                "collapsed": false
            }, 
            "outputs": [], 
            "source": "d2 <- ggplot(dfSample) + geom_histogram(aes(x=MEMUSED, y=..count../sum(..count..)), binwidth=1000, colour=\"black\", fill=\"white\") + scale_y_continuous(labels=percent_format()) + labs(title=\"Memory Used\") + labs(x=\"Memory Used\",y=\"Frequency\")\nggsave(filename = \"img2.jpg\", plot = d2, height=2, width=3, scale=2, dpi=120)\nd2"
        }, 
        {
            "source": "A distribution histogram for different amounts of active users:", 
            "cell_type": "markdown", 
            "metadata": {}
        }, 
        {
            "execution_count": null, 
            "cell_type": "code", 
            "metadata": {
                "collapsed": false
            }, 
            "outputs": [], 
            "source": "# Plot a histogram that shows relative frequency of various numbers of users.\nd3 <- ggplot(dfSample) + geom_histogram(aes(x=USERS, y=..count../sum(..count..)), binwidth=7, colour=\"black\", fill=\"white\") + scale_y_continuous(labels=percent_format()) + labs(title=\"Active Users\") + labs(x=\"Number of Users\",y=\"Frequency\")\nggsave(filename = \"img3.jpg\", plot = d3, height=2, width=3, scale=2, dpi=120)\nd3"
        }, 
        {
            "source": "### Train a linear prediction model for MEMUSED based on USERS", 
            "cell_type": "markdown", 
            "metadata": {}
        }, 
        {
            "execution_count": null, 
            "cell_type": "code", 
            "metadata": {
                "collapsed": false
            }, 
            "outputs": [], 
            "source": "lm1 <- idaLm(MEMUSED~USERS, mergedUsage)\n\nlm1"
        }, 
        {
            "source": "### Visualize the model", 
            "cell_type": "markdown", 
            "metadata": {}
        }, 
        {
            "source": "A scatter plot of number of users vs. memory usage, overlaid with the calculated linear relationship. IIn the linear model the first coefficient is the slope of the line in MB/user and the second coefficient is the Y intercept.", 
            "cell_type": "markdown", 
            "metadata": {}
        }, 
        {
            "execution_count": null, 
            "cell_type": "code", 
            "metadata": {
                "collapsed": false
            }, 
            "outputs": [], 
            "source": "d1 <- ggplot(dfSample, aes(x=USERS, y=MEMUSED)) + geom_point(shape=1) + labs(title=\"Memory used\") + labs(x=\"Number of Users\",y=\"Memory Used (MB)\") + stat_function(fun=function(x){x*lm1$coefficients[1]+lm1$coefficients[2]}, aes(colour=\"blue\")) + scale_colour_manual(\"Legend\", values=c(\"blue\"), labels=c(\"idaLM\"))\nggsave(filename = \"img1.jpg\", plot = d1, height=2, width=3, scale=2, dpi=120)\nd1"
        }, 
        {
            "source": "### Persist the linear model\nBy storing the coefficients inside a R object in the dashDB database.", 
            "cell_type": "markdown", 
            "metadata": {}
        }, 
        {
            "execution_count": null, 
            "cell_type": "code", 
            "metadata": {
                "collapsed": false
            }, 
            "outputs": [], 
            "source": "# Create a pointer to the private R object storage table of the current user. \nmyModels <- ida.list(type=\"private\")\n\n# List all objects in the private R object storage table of the current user.\nwriteLines(\"Private R object storage table:\")\nnames(myModels)\nwriteLines(\"\")"
        }, 
        {
            "execution_count": null, 
            "cell_type": "code", 
            "metadata": {
                "collapsed": false
            }, 
            "outputs": [], 
            "source": "myModels['model1'] <- lm1$coefficients\nmyModels <- ida.list(type=\"private\")\nnames(myModels)"
        }, 
        {
            "source": "### Clean up", 
            "cell_type": "markdown", 
            "metadata": {}
        }, 
        {
            "execution_count": null, 
            "cell_type": "code", 
            "metadata": {
                "collapsed": false
            }, 
            "outputs": [], 
            "source": "myModels['model1'] <- NULL;\nidaDropView(mergedSys@table)\nidaDropView(mergedUsage@table)\n\nidaClose(con)"
        }, 
        {
            "execution_count": null, 
            "cell_type": "code", 
            "metadata": {
                "collapsed": true
            }, 
            "outputs": [], 
            "source": ""
        }
    ], 
    "metadata": {
        "kernelspec": {
            "display_name": "R with Spark 1.6", 
            "name": "r", 
            "language": "R"
        }, 
        "language_info": {
            "mimetype": "text/x-r-source", 
            "version": "3.3.0", 
            "name": "R", 
            "pygments_lexer": "r", 
            "file_extension": ".r", 
            "codemirror_mode": "r"
        }
    }, 
    "nbformat": 4
}