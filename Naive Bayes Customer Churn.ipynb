{
    "nbformat_minor": 0, 
    "cells": [
        {
            "source": "# Sample R Notebook for dashDB Machine Learning - NaiveBAyes", 
            "cell_type": "markdown", 
            "metadata": {}
        }, 
        {
            "source": "Before running the notebook, insert credentials cell here. To do so click \"Find and Add Data\" at top right of the screen, then select \"Connection\" and select \"Insert to code\" for the dashDB system of your choice. Make sure you have a dashDB connection set up in your project beforehand.\n<div> <img width = 370 height =286 src=\"https://ibm.box.com/shared/static/yc0airtlenm9ezywk3pigr453gkz3u1w.png\"> </div>", 
            "cell_type": "markdown", 
            "metadata": {}
        }, 
        {
            "source": "", 
            "cell_type": "code", 
            "metadata": {
                "collapsed": true
            }, 
            "outputs": [], 
            "execution_count": null
        }, 
        {
            "source": "Next the ibmdbR push down library for dashDB is loaded. It translates R data frame operations into SQLs and machine learning routines executed inside dashDB.", 
            "cell_type": "markdown", 
            "metadata": {}
        }, 
        {
            "source": "# Load the ibmdbR package and make a connection\nlibrary(ibmdbR)\ncon <- idaConnect(paste(\"DASHDB\", credentials_1[\"dsn\"], sep=\";\"),'','')\nidaInit(con)", 
            "cell_type": "code", 
            "metadata": {
                "collapsed": false
            }, 
            "outputs": [], 
            "execution_count": null
        }, 
        {
            "source": "### Creating a proxy data frame\nCreating an ida (in-database analytics) data frame for CUSTOMER_CHURN sample table. Data remains in dashDB.\nThen print a small sample of the data in that table.", 
            "cell_type": "markdown", 
            "metadata": {}
        }, 
        {
            "source": "churnDf <- ida.data.frame(\"SAMPLES.CUSTOMER_CHURN\")\nhead(churnDf, 10)", 
            "cell_type": "code", 
            "metadata": {
                "scrolled": true, 
                "collapsed": false
            }, 
            "outputs": [], 
            "execution_count": null
        }, 
        {
            "source": "The data in this table can be used to train churn prediction by analyzing the correlation of two variables to churn: 1. Whether the customer is in a business-to-business (IN_B2B_INDUSTRY) industry, 2. Whether the number of products a customer bought (TOTAL_BUY) was less than three.", 
            "cell_type": "markdown", 
            "metadata": {}
        }, 
        {
            "source": "### Perform a few data transformations\nThese transformations transien and are not (and do not need to be) written back to the database.\nThen print a sample of the tranformed data frame again.", 
            "cell_type": "markdown", 
            "metadata": {}
        }, 
        {
            "source": "# The CENSOR field is encoded as 0 or 1. Transform this to a string ('nochurn' or 'churn').\nchurnDf$CHURN <- ifelse(churnDf$CENSOR=='1','nochurn','churn')\n\n# The IN_B2B_INDUSTRY field is also encoded as or 1. Transform this to a string ('no' or 'yes').\nchurnDf$IN_B2B <- ifelse(churnDf$IN_B2B_INDUSTRY=='1','yes','no')\n\n# Transform the value of the TOTAL_BUY field to a discrete value ('threeormore' or 'lessthanthree').\nchurnDf$TOTALBUY <- ifelse(churnDf$TOTAL_BUY>2,'threeormore','lessthanthree')\n\nhead(churnDf)", 
            "cell_type": "code", 
            "metadata": {
                "collapsed": false
            }, 
            "outputs": [], 
            "execution_count": null
        }, 
        {
            "source": "### Now train a NaiveBayes classification model for churn/no_churn prediction", 
            "cell_type": "markdown", 
            "metadata": {}
        }, 
        {
            "source": "nb <- idaNaiveBayes(CHURN~IN_B2B+TOTALBUY,churnDf,\"CUST_ID\", modelname='customer_churn_predictor')\n\n# Print the model\nprint(nb)", 
            "cell_type": "code", 
            "metadata": {
                "collapsed": false
            }, 
            "outputs": [], 
            "execution_count": null
        }, 
        {
            "source": "### List stored ML in dashDB\nCheck and find the just created ML model.", 
            "cell_type": "markdown", 
            "metadata": {}
        }, 
        {
            "source": "idaListModels()", 
            "cell_type": "code", 
            "metadata": {
                "collapsed": false
            }, 
            "outputs": [], 
            "execution_count": null
        }, 
        {
            "source": "### Run a test prediction\nFor simplicity we use the same data frame as for training. The results are written to a table in dashDB, which is represented by the data frame object returned.\n\nThen print a sample of the predicted result table.", 
            "cell_type": "markdown", 
            "metadata": {}
        }, 
        {
            "source": "# Use the predict method to make predictions\npreds <- predict(nb,churnDf,\"CUST_ID\")\n\nhead(preds)", 
            "cell_type": "code", 
            "metadata": {
                "collapsed": false
            }, 
            "outputs": [], 
            "execution_count": null
        }, 
        {
            "source": "# Close the connection to the database\nidaClose(con)", 
            "cell_type": "code", 
            "metadata": {
                "collapsed": false
            }, 
            "outputs": [], 
            "execution_count": null
        }
    ], 
    "metadata": {
        "kernelspec": {
            "display_name": "R with Spark 1.6", 
            "name": "r", 
            "language": "R"
        }, 
        "language_info": {
            "mimetype": "text/x-r-source", 
            "version": "3.3.0", 
            "name": "R", 
            "pygments_lexer": "r", 
            "file_extension": ".r", 
            "codemirror_mode": "r"
        }
    }, 
    "nbformat": 4
}