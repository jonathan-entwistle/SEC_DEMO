{
    "nbformat_minor": 0, 
    "cells": [
        {
            "source": "# Sample R Notebook - Running SQL against dashDB", 
            "cell_type": "markdown", 
            "metadata": {
                "collapsed": true
            }
        }, 
        {
            "source": "Before running the notebook, insert credentials cell here. To do so click \"Find and Add Data\" at top right of the screen, then select \"Connection\" and select \"Insert to code\" for the dashDB system of your choice. Make sure you have a dashDB connection set up in your project beforehand.\n<div> <img width = 370 height =286 src=\"https://ibm.box.com/shared/static/yc0airtlenm9ezywk3pigr453gkz3u1w.png\"> </div>", 
            "cell_type": "markdown", 
            "metadata": {}
        }, 
        {
            "source": "", 
            "cell_type": "code", 
            "metadata": {
                "collapsed": true
            }, 
            "outputs": [], 
            "execution_count": null
        }, 
        {
            "source": "Next the ibmdbR push down library for dashDB is loaded. It translates R data frame operations into SQLs and machine learning routines executed inside dashDB. We also establish the database connection to dashDB based on the credentials inserted in the cell above (verify that credentials variable above is named **credentials_1**). ", 
            "cell_type": "markdown", 
            "metadata": {}
        }, 
        {
            "source": "# Load the ibmdbR package and make a connection\nlibrary(ibmdbR)\nlibrary(ggplot2)\nlibrary(scales)\ncon <- idaConnect(paste(\"DASHDB\", credentials_1[\"dsn\"], sep=\";\"),'','')\nidaInit(con)", 
            "cell_type": "code", 
            "metadata": {
                "collapsed": false
            }, 
            "outputs": [], 
            "execution_count": null
        }, 
        {
            "source": "### Creating SQL-based data frames\nData remains in dashDB until operations are performed on the data frames, like in subsequent cell.", 
            "cell_type": "markdown", 
            "metadata": {}
        }, 
        {
            "source": "retailSummary <- idaQuery('SELECT CLOSE_DAY_KEY, EMPLOYEE_KEY, GROSS_MARGIN, GROSS_PROFIT, ORDER_DAY_KEY,\n                                  ORDER_METHOD_KEY, ORGANIZATION_KEY, PRODUCT_KEY, PROMOTION_KEY, QUANTITY,\n                                  RETAILER_KEY RETAILER_SITE_KEY, SALES_ORDER_KEY, SALE_TOTAL, SHIP_DAY_KEY,\n                                  UNIT_COST, UNIT_PRICE, UNIT_SALE_PRICE\n                           FROM GOSALESDW.SLS_SALES_FACT\n                           WHERE QUANTITY > 9000\n                           ORDER BY GROSS_PROFIT DESC')\nnumberofSales <- idaScalarQuery('SELECT count(*) FROM GOSALESDW.EMP_EXPENSE_FACT;')", 
            "cell_type": "code", 
            "metadata": {
                "collapsed": false
            }, 
            "outputs": [], 
            "execution_count": null
        }, 
        {
            "source": "Explore the result sets:", 
            "cell_type": "markdown", 
            "metadata": {}
        }, 
        {
            "source": "print(\"Number of total sales: \")\nnumberofSales\nprint(\"Retail Summary: \")\nretailSummary", 
            "cell_type": "code", 
            "metadata": {
                "collapsed": false
            }, 
            "outputs": [], 
            "execution_count": null
        }, 
        {
            "source": "More details about [idaQuery](https://rdrr.io/cran/ibmdbR/man/idaQuery.html).", 
            "cell_type": "markdown", 
            "metadata": {}
        }
    ], 
    "metadata": {
        "kernelspec": {
            "display_name": "R with Spark 1.6", 
            "name": "r", 
            "language": "R"
        }, 
        "language_info": {
            "mimetype": "text/x-r-source", 
            "version": "3.3.0", 
            "name": "R", 
            "pygments_lexer": "r", 
            "file_extension": ".r", 
            "codemirror_mode": "r"
        }
    }, 
    "nbformat": 4
}