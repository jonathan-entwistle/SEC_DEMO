{
 "cells": [
  {
   "cell_type": "markdown",
   "metadata": {},
   "source": [
    "<div style=\"background:#F5F7FA; height:100px; padding: 2em; font-size:14px;\">\n",
    "<span style=\"font-size:18px;color:#152935;\">Want to do more?</span><span style=\"border: 1px solid #3d70b2;padding: 15px;float:right;margin-right:40px; color:#3d70b2; \"><a href=\"https://ibm.co/wsnotebooks\" target=\"_blank\" style=\"color: #3d70b2;text-decoration: none;\">Sign Up</a></span><br>\n",
    "<span style=\"color:#5A6872;\"> Try out this notebook with your free trial of IBM Watson Studio.</span>\n",
    "</div>"
   ]
  },
  {
   "cell_type": "markdown",
   "metadata": {},
   "source": [
    "# Connect to Db2 Warehouse on Cloud and Db2 using Scala\n",
    "\n",
    "This notebook shows how to access Db2 Warehouse on Cloud (or a Db2 database) using Scala by following the steps below:\n",
    "1. Import the JDBC library\n",
    "1. Identify and enter the database connection credentials\n",
    "1. Create the database connection\n",
    "1. Query the data\n",
    "1. Close the database connection\n",
    "\n",
    "## What is Db2 Warehouse on Cloud ?\n",
    "\n",
    "**Db2 Warehouse on Cloud** is a fully-managed, enterprise-class, cloud data warehouse service, purpose-built for analytics. It offers massively parallel processing (MPP) scale, and compatibility with a wide range of business intelligence (BI) tools.  \n",
    "\n",
    "\n",
    "[Get your own Db2 Warehouse on Cloud.](https://console.ng.bluemix.net/catalog/services/dashdb)\n",
    "\n",
    "\n",
    "## Import the JDBC library\n",
    "Scala code gets compiled into byte code that runs on a Java™ virtual machine (JVM), which allows Scala applications to directly call Java libraries. Therefore, accessing Db2 Warehouse on Cloud from a Scala application is simply a matter of using the existing JDBC driver for Db2: the IBM Data Server Driver for JDBC and SQLJ."
   ]
  },
  {
   "cell_type": "code",
   "execution_count": 1,
   "metadata": {},
   "outputs": [],
   "source": [
    "import com.ibm.db2.jcc._\n",
    "import java.sql.{Connection, DriverManager, ResultSet};\n",
    "java.sql.DriverManager.registerDriver(new com.ibm.db2.jcc.DB2Driver)"
   ]
  },
  {
   "cell_type": "markdown",
   "metadata": {},
   "source": [
    "## Identify the database connection credentials\n",
    "\n",
    "Connecting to Db2 Warehouse on Cloud or Db2 database requires the following information:\n",
    "* Database name \n",
    "* Host DNS name or IP address \n",
    "* Host port\n",
    "* User ID\n",
    "* User Password\n",
    "\n",
    "To get your database credentials, go to **Services -> Data Services** in the top menu bar and click on your Db2 Warehouse instance. This will open up a new IBM Cloud tab where you can get your information.\n"
   ]
  },
  {
   "cell_type": "markdown",
   "metadata": {},
   "source": [
    "Your credentials will look something like this:\n",
    "```\n",
    "{\n",
    "  \"port\": 50000,\n",
    "  \"db\": \"BLUDB\",\n",
    "  \"username\": \"*******\",\n",
    "  .....\n",
    "  \"jdbcurl\": \"jdbc:db2://dashdb-entry-yp-dal10-01.services.dal.bluemix.net:50000/BLUDB\",\n",
    "  .....\n",
    "  \"password\": \"******\"\n",
    "}\n",
    "```"
   ]
  },
  {
   "cell_type": "markdown",
   "metadata": {},
   "source": [
    "## Create the Db2 database connection\n",
    "\n",
    "Replace `jdbcurl`, `dsn_username` and `dsn_password` in the cell below with you credential information.\n"
   ]
  },
  {
   "cell_type": "code",
   "execution_count": 2,
   "metadata": {},
   "outputs": [
    {
     "data": {
      "text/plain": [
       "com.ibm.db2.jcc.t4.b@7995bf98"
      ]
     },
     "execution_count": 2,
     "metadata": {},
     "output_type": "execute_result"
    }
   ],
   "source": [
    "//val connection = java.sql.DriverManager.getConnection(jdbcurl, dsn_username, dsn_password)\n",
    "val connection = java.sql.DriverManager.getConnection(\"jdbc:db2://dashdb-entry-yp-dal10-01.services.dal.bluemix.net:50000/BLUDB\", \"your_username\", \"your_password\")\n",
    "connection"
   ]
  },
  {
   "cell_type": "markdown",
   "metadata": {},
   "source": [
    "## Query the data\n",
    "You can now use the connection object `connection` to query the database.\n",
    "\n",
    "In this section we use sample data that is provided in BigSQL by default. We will use to run queries and create reports about the fictional __Sample Outdoor Company__. \n",
    "\n",
    "The schema that is used in this tutorial is the GOSALESDW. It contains fact tables for the following areas:\n",
    "\n",
    "* Distribution\n",
    "* Finance\n",
    "* Geography\n",
    "* Marketing\n",
    "* Organization\n",
    "* Personnel\n",
    "* Products\n",
    "* Retailers\n",
    "* Sales\n",
    "* Time."
   ]
  },
  {
   "cell_type": "code",
   "execution_count": 3,
   "metadata": {},
   "outputs": [
    {
     "name": "stdout",
     "output_type": "stream",
     "text": [
      "Employee key, name = 4001, Élizabeth Michel\n",
      "Employee key, name = 4002, Émile Clermont\n",
      "Employee key, name = 4003, Étienne Jauvin\n",
      "Employee key, name = 4004, Frank Fuhlroth\n",
      "Employee key, name = 4005, Gunter Erler\n",
      "Employee key, name = 4006, Björn Winkler\n",
      "Employee key, name = 4007, Björn Winkler\n",
      "Employee key, name = 4008, Belinda Jansen-Velasquez\n",
      "Employee key, name = 4009, Ellen Shapiro\n",
      "Employee key, name = 4010, Maria Laponder\n"
     ]
    }
   ],
   "source": [
    "val query = \"select * from gosalesdw.emp_employee_dim LIMIT 10\";\n",
    "val resultSet = connection.createStatement.executeQuery(query)\n",
    "while ( resultSet.next() ) {\n",
    "    val name = resultSet.getString(\"EMPLOYEE_NAME\")\n",
    "    val key = resultSet.getString(\"EMPLOYEE_KEY\")\n",
    "    println(\"Employee key, name = \" + key + \", \" + name)\n",
    "}"
   ]
  },
  {
   "cell_type": "markdown",
   "metadata": {},
   "source": [
    "## Close the connection\n",
    "It is good practice to close your database connection after work is done."
   ]
  },
  {
   "cell_type": "code",
   "execution_count": 4,
   "metadata": {},
   "outputs": [],
   "source": [
    "connection.close()"
   ]
  },
  {
   "cell_type": "markdown",
   "metadata": {},
   "source": [
    "## Want to learn more?\n",
    "### Free courses on <a href=\"https://bigdatauniversity.com/courses/?utm_source=tutorial-dashdb-python&utm_medium=github&utm_campaign=bdu/\" rel=\"noopener noreferrer\" target=\"_blank\">Cognitive Class</a>: <a href=\"https://bigdatauniversity.com/courses/?utm_source=tutorial-dashdb-python&utm_medium=github&utm_campaign=bdu\" rel=\"noopener noreferrer\" target=\"_blank\"><img src = \"https://ibm.box.com/shared/static/xomeu7dacwufkoawbg3owc8wzuezltn6.png\" width=600px> </a>"
   ]
  },
  {
   "cell_type": "markdown",
   "metadata": {},
   "source": [
    "### Authors\n",
    "\n",
    "**Saeed Aghabozorgi**, PhD, is a Data Scientist in IBM with a track record of developing enterprise-level applications that substantially increases clients' ability to turn data into actionable knowledge. He is a researcher in the data mining field and an expert in developing advanced analytic methods like machine learning and statistical modelling on large data sets.\n",
    "\n",
    "**Polong Lin** is a Data Scientist at IBM in Canada. Under the Emerging Technologies division, Polong is responsible for educating the next generation of data scientists through Big Data University. Polong is a regular speaker in conferences and meetups, and holds an M.Sc. in Cognitive Psychology."
   ]
  },
  {
   "cell_type": "markdown",
   "metadata": {},
   "source": [
    "Copyright © 2016, 2018 Cognitive Class. This notebook and its source code are released under the terms of the <a href=\"https://bigdatauniversity.com/mit-license/\" rel=\"noopener noreferrer\" target=\"_blank\">MIT License</a>."
   ]
  }
 ],
 "metadata": {
  "kernelspec": {
   "display_name": "Scala 2.11 with Spark 2.1",
   "language": "scala",
   "name": "scala-spark21"
  },
  "language_info": {
   "codemirror_mode": "text/x-scala",
   "file_extension": ".scala",
   "mimetype": "text/x-scala",
   "name": "scala",
   "pygments_lexer": "scala",
   "version": "2.11.8"
  }
 },
 "nbformat": 4,
 "nbformat_minor": 1
}
