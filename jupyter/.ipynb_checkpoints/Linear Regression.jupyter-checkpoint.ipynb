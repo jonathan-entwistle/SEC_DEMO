{
 "cells": [
  {
   "cell_type": "markdown",
   "metadata": {
    "collapsed": true
   },
   "source": [
    "# Sample R Notebook - dashDB Machine Learning - Linear Regression"
   ]
  },
  {
   "cell_type": "markdown",
   "metadata": {},
   "source": [
    "Before running the notebook, insert credentials cell here. To do so click \"Find and Add Data\" at top right of the screen, then select \"Connection\" and select \"Insert to code\" for the dashDB system of your choice. Make sure you have a dashDB connection set up in your project beforehand.\n",
    "<div> <img width = 370 height =286 src=\"https://ibm.box.com/shared/static/yc0airtlenm9ezywk3pigr453gkz3u1w.png\"> </div>"
   ]
  },
  {
   "cell_type": "code",
   "execution_count": null,
   "metadata": {
    "collapsed": true
   },
   "outputs": [],
   "source": [
    "# The code was removed by DSX for sharing."
   ]
  },
  {
   "cell_type": "markdown",
   "metadata": {},
   "source": [
    "Next the ibmdbR push down library for dashDB is loaded. It translates R data frame operations into SQLs and machine learning routines executed inside dashDB."
   ]
  },
  {
   "cell_type": "code",
   "execution_count": null,
   "metadata": {
    "collapsed": false
   },
   "outputs": [],
   "source": [
    "# Load the ibmdbR package and make a connection\n",
    "library(ibmdbR)\n",
    "library(ggplot2)\n",
    "library(scales)\n",
    "con <- idaConnect(paste(\"DASHDB\", credentials_1[\"dsn\"], sep=\";\"),'','')\n",
    "idaInit(con)"
   ]
  },
  {
   "cell_type": "markdown",
   "metadata": {},
   "source": [
    "### Creating proxy data frames\n",
    "Creating  ida (in-database analytics) data frames for SHOWCASE_SYSUSAGE, SHOWCASE_SYSTEMS and SAMPLES.SHOWCASE_SYSTYPES sample tables. Data remains in dashDB.\n",
    "Then print a small sample of the data in that table."
   ]
  },
  {
   "cell_type": "code",
   "execution_count": null,
   "metadata": {
    "collapsed": false
   },
   "outputs": [],
   "source": [
    "sysusage<-ida.data.frame('SAMPLES.SHOWCASE_SYSUSAGE')\n",
    "systems<-ida.data.frame('SAMPLES.SHOWCASE_SYSTEMS')\n",
    "systypes<-ida.data.frame('SAMPLES.SHOWCASE_SYSTYPES')\n",
    "\n",
    "head(sysusage)\n",
    "head(systems)\n",
    "head(systypes)"
   ]
  },
  {
   "cell_type": "markdown",
   "metadata": {},
   "source": [
    "The data in these tables holds time series of measurents of computer systems resource usage in a compute center. It can be used to train a regression model of memory usage based on number of users on the system."
   ]
  },
  {
   "cell_type": "markdown",
   "metadata": {},
   "source": [
    "### Data preparation: pushed down merging all three data frame inside database\n",
    "Then print a sample of the merged data frame."
   ]
  },
  {
   "cell_type": "code",
   "execution_count": null,
   "metadata": {
    "collapsed": false
   },
   "outputs": [],
   "source": [
    "# Join the three tables on their TYPEID and SID columns.\n",
    "mergedSys<-idaMerge(systems, systypes, by='TYPEID')\n",
    "mergedUsage<-idaMerge(sysusage, mergedSys, by='SID')\n",
    "\n",
    "head(mergedUsage)"
   ]
  },
  {
   "cell_type": "markdown",
   "metadata": {},
   "source": [
    "A distribution histogram for different amounts of memory used:"
   ]
  },
  {
   "cell_type": "code",
   "execution_count": null,
   "metadata": {
    "collapsed": true
   },
   "outputs": [],
   "source": [
    "# Obtain a random sample of 1000 data points for visualization\n",
    "dfSample <- idaSample(mergedUsage[,c(\"MEMUSED\", \"USERS\")], 1000)"
   ]
  },
  {
   "cell_type": "code",
   "execution_count": null,
   "metadata": {
    "collapsed": false,
    "scrolled": true
   },
   "outputs": [],
   "source": [
    "d2 <- ggplot(dfSample) + geom_histogram(aes(x=MEMUSED, y=..count../sum(..count..)), binwidth=1000, colour=\"black\", fill=\"white\") + scale_y_continuous(labels=percent_format()) + labs(title=\"Memory Used\") + labs(x=\"Memory Used\",y=\"Frequency\")\n",
    "ggsave(filename = \"img2.jpg\", plot = d2, height=2, width=3, scale=2, dpi=120)\n",
    "d2"
   ]
  },
  {
   "cell_type": "markdown",
   "metadata": {},
   "source": [
    "A distribution histogram for different amounts of active users:"
   ]
  },
  {
   "cell_type": "code",
   "execution_count": null,
   "metadata": {
    "collapsed": false
   },
   "outputs": [],
   "source": [
    "# Plot a histogram that shows relative frequency of various numbers of users.\n",
    "d3 <- ggplot(dfSample) + geom_histogram(aes(x=USERS, y=..count../sum(..count..)), binwidth=7, colour=\"black\", fill=\"white\") + scale_y_continuous(labels=percent_format()) + labs(title=\"Active Users\") + labs(x=\"Number of Users\",y=\"Frequency\")\n",
    "ggsave(filename = \"img3.jpg\", plot = d3, height=2, width=3, scale=2, dpi=120)\n",
    "d3"
   ]
  },
  {
   "cell_type": "markdown",
   "metadata": {},
   "source": [
    "### Train a linear prediction model for MEMUSED based on USERS"
   ]
  },
  {
   "cell_type": "code",
   "execution_count": null,
   "metadata": {
    "collapsed": false
   },
   "outputs": [],
   "source": [
    "lm1 <- idaLm(MEMUSED~USERS, mergedUsage)\n",
    "\n",
    "lm1"
   ]
  },
  {
   "cell_type": "markdown",
   "metadata": {},
   "source": [
    "### Visualize the model"
   ]
  },
  {
   "cell_type": "markdown",
   "metadata": {},
   "source": [
    "A scatter plot of number of users vs. memory usage, overlaid with the calculated linear relationship. IIn the linear model the first coefficient is the slope of the line in MB/user and the second coefficient is the Y intercept."
   ]
  },
  {
   "cell_type": "code",
   "execution_count": null,
   "metadata": {
    "collapsed": false
   },
   "outputs": [],
   "source": [
    "d1 <- ggplot(dfSample, aes(x=USERS, y=MEMUSED)) + geom_point(shape=1) + labs(title=\"Memory used\") + labs(x=\"Number of Users\",y=\"Memory Used (MB)\") + stat_function(fun=function(x){x*lm1$coefficients[1]+lm1$coefficients[2]}, aes(colour=\"blue\")) + scale_colour_manual(\"Legend\", values=c(\"blue\"), labels=c(\"idaLM\"))\n",
    "ggsave(filename = \"img1.jpg\", plot = d1, height=2, width=3, scale=2, dpi=120)\n",
    "d1"
   ]
  },
  {
   "cell_type": "markdown",
   "metadata": {},
   "source": [
    "### Persist the linear model\n",
    "By storing the coefficients inside a R object in the dashDB database."
   ]
  },
  {
   "cell_type": "code",
   "execution_count": null,
   "metadata": {
    "collapsed": false
   },
   "outputs": [],
   "source": [
    "# Create a pointer to the private R object storage table of the current user. \n",
    "myModels <- ida.list(type=\"private\")\n",
    "\n",
    "# List all objects in the private R object storage table of the current user.\n",
    "writeLines(\"Private R object storage table:\")\n",
    "names(myModels)\n",
    "writeLines(\"\")"
   ]
  },
  {
   "cell_type": "code",
   "execution_count": null,
   "metadata": {
    "collapsed": false
   },
   "outputs": [],
   "source": [
    "myModels['model1'] <- lm1$coefficients\n",
    "myModels <- ida.list(type=\"private\")\n",
    "names(myModels)"
   ]
  },
  {
   "cell_type": "markdown",
   "metadata": {},
   "source": [
    "### Clean up"
   ]
  },
  {
   "cell_type": "code",
   "execution_count": null,
   "metadata": {
    "collapsed": false
   },
   "outputs": [],
   "source": [
    "myModels['model1'] <- NULL;\n",
    "idaDropView(mergedSys@table)\n",
    "idaDropView(mergedUsage@table)\n",
    "\n",
    "idaClose(con)"
   ]
  },
  {
   "cell_type": "code",
   "execution_count": null,
   "metadata": {
    "collapsed": true
   },
   "outputs": [],
   "source": []
  }
 ],
 "metadata": {
  "kernelspec": {
   "display_name": "R with Spark 1.6",
   "language": "R",
   "name": "r"
  },
  "language_info": {
   "codemirror_mode": "r",
   "file_extension": ".r",
   "mimetype": "text/x-r-source",
   "name": "R",
   "pygments_lexer": "r",
   "version": "3.3.0"
  }
 },
 "nbformat": 4,
 "nbformat_minor": 0
}
