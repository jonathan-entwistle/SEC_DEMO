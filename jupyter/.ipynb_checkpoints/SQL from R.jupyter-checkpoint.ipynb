{
 "cells": [
  {
   "cell_type": "markdown",
   "metadata": {
    "collapsed": true
   },
   "source": [
    "# Sample R Notebook - Running SQL against dashDB"
   ]
  },
  {
   "cell_type": "markdown",
   "metadata": {},
   "source": [
    "Before running the notebook, insert credentials cell here. To do so click \"Find and Add Data\" at top right of the screen, then select \"Connection\" and select \"Insert to code\" for the dashDB system of your choice. Make sure you have a dashDB connection set up in your project beforehand.\n",
    "<div> <img width = 370 height =286 src=\"https://ibm.box.com/shared/static/yc0airtlenm9ezywk3pigr453gkz3u1w.png\"> </div>"
   ]
  },
  {
   "cell_type": "code",
   "execution_count": null,
   "metadata": {
    "collapsed": true
   },
   "outputs": [],
   "source": []
  },
  {
   "cell_type": "markdown",
   "metadata": {},
   "source": [
    "Next the ibmdbR push down library for dashDB is loaded. It translates R data frame operations into SQLs and machine learning routines executed inside dashDB. We also establish the database connection to dashDB based on the credentials inserted in the cell above (verify that credentials variable above is named **credentials_1**). "
   ]
  },
  {
   "cell_type": "code",
   "execution_count": null,
   "metadata": {
    "collapsed": false
   },
   "outputs": [],
   "source": [
    "# Load the ibmdbR package and make a connection\n",
    "library(ibmdbR)\n",
    "library(ggplot2)\n",
    "library(scales)\n",
    "con <- idaConnect(paste(\"DASHDB\", credentials_1[\"dsn\"], sep=\";\"),'','')\n",
    "idaInit(con)"
   ]
  },
  {
   "cell_type": "markdown",
   "metadata": {},
   "source": [
    "### Creating SQL-based data frames\n",
    "Data remains in dashDB until operations are performed on the data frames, like in subsequent cell."
   ]
  },
  {
   "cell_type": "code",
   "execution_count": null,
   "metadata": {
    "collapsed": false
   },
   "outputs": [],
   "source": [
    "retailSummary <- idaQuery('SELECT CLOSE_DAY_KEY, EMPLOYEE_KEY, GROSS_MARGIN, GROSS_PROFIT, ORDER_DAY_KEY,\n",
    "                                  ORDER_METHOD_KEY, ORGANIZATION_KEY, PRODUCT_KEY, PROMOTION_KEY, QUANTITY,\n",
    "                                  RETAILER_KEY RETAILER_SITE_KEY, SALES_ORDER_KEY, SALE_TOTAL, SHIP_DAY_KEY,\n",
    "                                  UNIT_COST, UNIT_PRICE, UNIT_SALE_PRICE\n",
    "                           FROM GOSALESDW.SLS_SALES_FACT\n",
    "                           WHERE QUANTITY > 9000\n",
    "                           ORDER BY GROSS_PROFIT DESC')\n",
    "numberofSales <- idaScalarQuery('SELECT count(*) FROM GOSALESDW.EMP_EXPENSE_FACT;')"
   ]
  },
  {
   "cell_type": "markdown",
   "metadata": {},
   "source": [
    "Explore the result sets:"
   ]
  },
  {
   "cell_type": "code",
   "execution_count": null,
   "metadata": {
    "collapsed": false
   },
   "outputs": [],
   "source": [
    "print(\"Number of total sales: \")\n",
    "numberofSales\n",
    "print(\"Retail Summary: \")\n",
    "retailSummary"
   ]
  },
  {
   "cell_type": "markdown",
   "metadata": {},
   "source": [
    "More details about [idaQuery](https://rdrr.io/cran/ibmdbR/man/idaQuery.html)."
   ]
  }
 ],
 "metadata": {
  "kernelspec": {
   "display_name": "R with Spark 1.6",
   "language": "R",
   "name": "r"
  },
  "language_info": {
   "codemirror_mode": "r",
   "file_extension": ".r",
   "mimetype": "text/x-r-source",
   "name": "R",
   "pygments_lexer": "r",
   "version": "3.3.0"
  }
 },
 "nbformat": 4,
 "nbformat_minor": 0
}
