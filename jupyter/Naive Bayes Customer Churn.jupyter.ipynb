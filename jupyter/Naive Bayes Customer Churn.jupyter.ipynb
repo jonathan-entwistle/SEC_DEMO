{
 "cells": [
  {
   "cell_type": "markdown",
   "metadata": {},
   "source": [
    "# Sample R Notebook for dashDB Machine Learning - NaiveBAyes"
   ]
  },
  {
   "cell_type": "markdown",
   "metadata": {},
   "source": [
    "Before running the notebook, insert credentials cell here. To do so click \"Find and Add Data\" at top right of the screen, then select \"Connection\" and select \"Insert to code\" for the dashDB system of your choice. Make sure you have a dashDB connection set up in your project beforehand.\n",
    "<div> <img width = 370 height =286 src=\"https://ibm.box.com/shared/static/yc0airtlenm9ezywk3pigr453gkz3u1w.png\"> </div>"
   ]
  },
  {
   "cell_type": "code",
   "execution_count": null,
   "metadata": {
    "collapsed": true
   },
   "outputs": [],
   "source": []
  },
  {
   "cell_type": "markdown",
   "metadata": {},
   "source": [
    "Next the ibmdbR push down library for dashDB is loaded. It translates R data frame operations into SQLs and machine learning routines executed inside dashDB."
   ]
  },
  {
   "cell_type": "code",
   "execution_count": null,
   "metadata": {
    "collapsed": false
   },
   "outputs": [],
   "source": [
    "# Load the ibmdbR package and make a connection\n",
    "library(ibmdbR)\n",
    "con <- idaConnect(paste(\"DASHDB\", credentials_1[\"dsn\"], sep=\";\"),'','')\n",
    "idaInit(con)"
   ]
  },
  {
   "cell_type": "markdown",
   "metadata": {},
   "source": [
    "### Creating a proxy data frame\n",
    "Creating an ida (in-database analytics) data frame for CUSTOMER_CHURN sample table. Data remains in dashDB.\n",
    "Then print a small sample of the data in that table."
   ]
  },
  {
   "cell_type": "code",
   "execution_count": null,
   "metadata": {
    "collapsed": false,
    "scrolled": true
   },
   "outputs": [],
   "source": [
    "churnDf <- ida.data.frame(\"SAMPLES.CUSTOMER_CHURN\")\n",
    "head(churnDf, 10)"
   ]
  },
  {
   "cell_type": "markdown",
   "metadata": {},
   "source": [
    "The data in this table can be used to train churn prediction by analyzing the correlation of two variables to churn: 1. Whether the customer is in a business-to-business (IN_B2B_INDUSTRY) industry, 2. Whether the number of products a customer bought (TOTAL_BUY) was less than three."
   ]
  },
  {
   "cell_type": "markdown",
   "metadata": {},
   "source": [
    "### Perform a few data transformations\n",
    "These transformations transien and are not (and do not need to be) written back to the database.\n",
    "Then print a sample of the tranformed data frame again."
   ]
  },
  {
   "cell_type": "code",
   "execution_count": null,
   "metadata": {
    "collapsed": false
   },
   "outputs": [],
   "source": [
    "# The CENSOR field is encoded as 0 or 1. Transform this to a string ('nochurn' or 'churn').\n",
    "churnDf$CHURN <- ifelse(churnDf$CENSOR=='1','nochurn','churn')\n",
    "\n",
    "# The IN_B2B_INDUSTRY field is also encoded as or 1. Transform this to a string ('no' or 'yes').\n",
    "churnDf$IN_B2B <- ifelse(churnDf$IN_B2B_INDUSTRY=='1','yes','no')\n",
    "\n",
    "# Transform the value of the TOTAL_BUY field to a discrete value ('threeormore' or 'lessthanthree').\n",
    "churnDf$TOTALBUY <- ifelse(churnDf$TOTAL_BUY>2,'threeormore','lessthanthree')\n",
    "\n",
    "head(churnDf)"
   ]
  },
  {
   "cell_type": "markdown",
   "metadata": {},
   "source": [
    "### Now train a NaiveBayes classification model for churn/no_churn prediction"
   ]
  },
  {
   "cell_type": "code",
   "execution_count": null,
   "metadata": {
    "collapsed": false
   },
   "outputs": [],
   "source": [
    "nb <- idaNaiveBayes(CHURN~IN_B2B+TOTALBUY,churnDf,\"CUST_ID\", modelname='customer_churn_predictor')\n",
    "\n",
    "# Print the model\n",
    "print(nb)"
   ]
  },
  {
   "cell_type": "markdown",
   "metadata": {},
   "source": [
    "### List stored ML in dashDB\n",
    "Check and find the just created ML model."
   ]
  },
  {
   "cell_type": "code",
   "execution_count": null,
   "metadata": {
    "collapsed": false
   },
   "outputs": [],
   "source": [
    "idaListModels()"
   ]
  },
  {
   "cell_type": "markdown",
   "metadata": {},
   "source": [
    "### Run a test prediction\n",
    "For simplicity we use the same data frame as for training. The results are written to a table in dashDB, which is represented by the data frame object returned.\n",
    "\n",
    "Then print a sample of the predicted result table."
   ]
  },
  {
   "cell_type": "code",
   "execution_count": null,
   "metadata": {
    "collapsed": false
   },
   "outputs": [],
   "source": [
    "# Use the predict method to make predictions\n",
    "preds <- predict(nb,churnDf,\"CUST_ID\")\n",
    "\n",
    "head(preds)"
   ]
  },
  {
   "cell_type": "code",
   "execution_count": null,
   "metadata": {
    "collapsed": false
   },
   "outputs": [],
   "source": [
    "# Close the connection to the database\n",
    "idaClose(con)"
   ]
  }
 ],
 "metadata": {
  "kernelspec": {
   "display_name": "R with Spark 1.6",
   "language": "R",
   "name": "r"
  },
  "language_info": {
   "codemirror_mode": "r",
   "file_extension": ".r",
   "mimetype": "text/x-r-source",
   "name": "R",
   "pygments_lexer": "r",
   "version": "3.3.0"
  }
 },
 "nbformat": 4,
 "nbformat_minor": 0
}
